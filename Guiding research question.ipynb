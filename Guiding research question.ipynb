{
 "cells": [
  {
   "cell_type": "code",
   "execution_count": 1,
   "id": "46ccfc43",
   "metadata": {},
   "outputs": [],
   "source": [
    "from csv_diff import load_csv, compare\n",
    "import os\n",
    "import pandas as pd\n",
    "import numpy as np\n",
    "import seaborn as sns\n",
    "import matplotlib.pyplot as plt"
   ]
  },
  {
   "cell_type": "code",
   "execution_count": 2,
   "id": "af56a3e7",
   "metadata": {},
   "outputs": [
    {
     "data": {
      "text/html": [
       "<div>\n",
       "<style scoped>\n",
       "    .dataframe tbody tr th:only-of-type {\n",
       "        vertical-align: middle;\n",
       "    }\n",
       "\n",
       "    .dataframe tbody tr th {\n",
       "        vertical-align: top;\n",
       "    }\n",
       "\n",
       "    .dataframe thead th {\n",
       "        text-align: right;\n",
       "    }\n",
       "</style>\n",
       "<table border=\"1\" class=\"dataframe\">\n",
       "  <thead>\n",
       "    <tr style=\"text-align: right;\">\n",
       "      <th></th>\n",
       "      <th>Unnamed: 0</th>\n",
       "      <th>Unnamed: 1</th>\n",
       "      <th>Unnamed: 2</th>\n",
       "      <th>Unnamed: 3</th>\n",
       "      <th>Unnamed: 4</th>\n",
       "      <th>start</th>\n",
       "      <th>end</th>\n",
       "      <th>start.1</th>\n",
       "      <th>end.1</th>\n",
       "      <th>start.2</th>\n",
       "      <th>used others values?</th>\n",
       "      <th>use my terms</th>\n",
       "      <th>refer back to tutorial</th>\n",
       "      <th>end.2</th>\n",
       "      <th>Unnamed: 14</th>\n",
       "      <th>Unnamed: 15</th>\n",
       "      <th>zip</th>\n",
       "      <th>(small, major)</th>\n",
       "      <th>Unnamed: 18</th>\n",
       "    </tr>\n",
       "  </thead>\n",
       "  <tbody>\n",
       "    <tr>\n",
       "      <th>0</th>\n",
       "      <td>NaN</td>\n",
       "      <td>NaN</td>\n",
       "      <td>NaN</td>\n",
       "      <td>NaN</td>\n",
       "      <td>NaN</td>\n",
       "      <td>down to seconds</td>\n",
       "      <td>NaN</td>\n",
       "      <td>NaN</td>\n",
       "      <td>NaN</td>\n",
       "      <td>NaN</td>\n",
       "      <td>(# of times)</td>\n",
       "      <td>(# of times)</td>\n",
       "      <td>(# of times)</td>\n",
       "      <td>NaN</td>\n",
       "      <td>NaN</td>\n",
       "      <td>NaN</td>\n",
       "      <td>NaN</td>\n",
       "      <td>NaN</td>\n",
       "      <td>NaN</td>\n",
       "    </tr>\n",
       "    <tr>\n",
       "      <th>1</th>\n",
       "      <td>m01</td>\n",
       "      <td>NaN</td>\n",
       "      <td>NaN</td>\n",
       "      <td>NaN</td>\n",
       "      <td>yes</td>\n",
       "      <td>15:36:03</td>\n",
       "      <td>15:50:03</td>\n",
       "      <td>15:27:38</td>\n",
       "      <td>15:32:40</td>\n",
       "      <td>15:50:27</td>\n",
       "      <td>NaN</td>\n",
       "      <td>NaN</td>\n",
       "      <td>NaN</td>\n",
       "      <td>16:02:46</td>\n",
       "      <td>Yes</td>\n",
       "      <td>NaN</td>\n",
       "      <td>Yes</td>\n",
       "      <td>NaN</td>\n",
       "      <td>NaN</td>\n",
       "    </tr>\n",
       "    <tr>\n",
       "      <th>2</th>\n",
       "      <td>m02</td>\n",
       "      <td>NaN</td>\n",
       "      <td>NaN</td>\n",
       "      <td>NaN</td>\n",
       "      <td>yes</td>\n",
       "      <td>15:13:11</td>\n",
       "      <td>15:24:47</td>\n",
       "      <td>15:06:33</td>\n",
       "      <td>15:11:36</td>\n",
       "      <td>15:25:09</td>\n",
       "      <td>NaN</td>\n",
       "      <td>NaN</td>\n",
       "      <td>NaN</td>\n",
       "      <td>15:42:14</td>\n",
       "      <td>Yes</td>\n",
       "      <td>NaN</td>\n",
       "      <td>Yes</td>\n",
       "      <td>NaN</td>\n",
       "      <td>NaN</td>\n",
       "    </tr>\n",
       "    <tr>\n",
       "      <th>3</th>\n",
       "      <td>p01</td>\n",
       "      <td>NaN</td>\n",
       "      <td>NaN</td>\n",
       "      <td>123456</td>\n",
       "      <td>yes</td>\n",
       "      <td>15:47:30</td>\n",
       "      <td>15:57:37</td>\n",
       "      <td>15:41:21</td>\n",
       "      <td>15:46:25</td>\n",
       "      <td>16:00:00</td>\n",
       "      <td>NaN</td>\n",
       "      <td>NaN</td>\n",
       "      <td>NaN</td>\n",
       "      <td>16:14:10</td>\n",
       "      <td>Yes</td>\n",
       "      <td>NaN</td>\n",
       "      <td>Yes</td>\n",
       "      <td>NaN</td>\n",
       "      <td>NaN</td>\n",
       "    </tr>\n",
       "    <tr>\n",
       "      <th>4</th>\n",
       "      <td>p03</td>\n",
       "      <td>NaN</td>\n",
       "      <td>NaN</td>\n",
       "      <td>123456</td>\n",
       "      <td>yes</td>\n",
       "      <td>16:15:42</td>\n",
       "      <td>16:36:10</td>\n",
       "      <td>16:05:45</td>\n",
       "      <td>16:10:37</td>\n",
       "      <td>16:38:51</td>\n",
       "      <td>NaN</td>\n",
       "      <td>NaN</td>\n",
       "      <td>NaN</td>\n",
       "      <td>16:51:00</td>\n",
       "      <td>Yes</td>\n",
       "      <td>NaN</td>\n",
       "      <td>NaN</td>\n",
       "      <td>small delays</td>\n",
       "      <td>NaN</td>\n",
       "    </tr>\n",
       "  </tbody>\n",
       "</table>\n",
       "</div>"
      ],
      "text/plain": [
       "  Unnamed: 0 Unnamed: 1 Unnamed: 2 Unnamed: 3 Unnamed: 4            start  \\\n",
       "0        NaN        NaN        NaN        NaN        NaN  down to seconds   \n",
       "1        m01        NaN        NaN        NaN        yes         15:36:03   \n",
       "2        m02        NaN        NaN        NaN        yes         15:13:11   \n",
       "3        p01        NaN        NaN     123456        yes         15:47:30   \n",
       "4        p03        NaN        NaN     123456        yes         16:15:42   \n",
       "\n",
       "        end   start.1     end.1   start.2 used others values?  use my terms  \\\n",
       "0       NaN       NaN       NaN       NaN        (# of times)  (# of times)   \n",
       "1  15:50:03  15:27:38  15:32:40  15:50:27                 NaN           NaN   \n",
       "2  15:24:47  15:06:33  15:11:36  15:25:09                 NaN           NaN   \n",
       "3  15:57:37  15:41:21  15:46:25  16:00:00                 NaN           NaN   \n",
       "4  16:36:10  16:05:45  16:10:37  16:38:51                 NaN           NaN   \n",
       "\n",
       "  refer back to tutorial     end.2 Unnamed: 14 Unnamed: 15  zip  \\\n",
       "0           (# of times)       NaN         NaN         NaN  NaN   \n",
       "1                    NaN  16:02:46         Yes         NaN  Yes   \n",
       "2                    NaN  15:42:14         Yes         NaN  Yes   \n",
       "3                    NaN  16:14:10         Yes         NaN  Yes   \n",
       "4                    NaN  16:51:00         Yes         NaN  NaN   \n",
       "\n",
       "  (small, major) Unnamed: 18  \n",
       "0            NaN         NaN  \n",
       "1            NaN         NaN  \n",
       "2            NaN         NaN  \n",
       "3            NaN         NaN  \n",
       "4   small delays         NaN  "
      ]
     },
     "execution_count": 2,
     "metadata": {},
     "output_type": "execute_result"
    }
   ],
   "source": [
    "PA = pd.read_csv('PA.csv', header = 1)\n",
    "PA.head()"
   ]
  },
  {
   "cell_type": "markdown",
   "id": "994d8579",
   "metadata": {},
   "source": [
    "**Q1** Will the time taken for the users to enter a set of characters using Character Recorder be roughly the same as the time taken using Excel?"
   ]
  },
  {
   "cell_type": "code",
   "execution_count": 3,
   "id": "ea6f4085",
   "metadata": {},
   "outputs": [],
   "source": [
    "EX = pd.to_datetime(PA[\"end.1\"][1:]) - pd.to_datetime(PA[\"start.1\"][1:])\n",
    "CR = pd.to_datetime(PA[\"end.2\"][1:]) - pd.to_datetime(PA[\"start.2\"][1:])"
   ]
  },
  {
   "cell_type": "code",
   "execution_count": 4,
   "id": "fc596acd",
   "metadata": {},
   "outputs": [
    {
     "data": {
      "text/plain": [
       "Timedelta('0 days 00:07:09.181818181')"
      ]
     },
     "execution_count": 4,
     "metadata": {},
     "output_type": "execute_result"
    }
   ],
   "source": [
    "EX.mean()"
   ]
  },
  {
   "cell_type": "code",
   "execution_count": 5,
   "id": "78e28ab7",
   "metadata": {},
   "outputs": [
    {
     "data": {
      "text/plain": [
       "<AxesSubplot:ylabel='Frequency'>"
      ]
     },
     "execution_count": 5,
     "metadata": {},
     "output_type": "execute_result"
    },
    {
     "data": {
      "image/png": "[encoded data removed]",
      "text/plain": [
       "<Figure size 432x288 with 1 Axes>"
      ]
     },
     "metadata": {
      "needs_background": "light"
     },
     "output_type": "display_data"
    }
   ],
   "source": [
    "EX.astype('timedelta64[s]').plot.hist()"
   ]
  },
  {
   "cell_type": "code",
   "execution_count": 6,
   "id": "2fe97a35",
   "metadata": {},
   "outputs": [
    {
     "data": {
      "text/plain": [
       "Timedelta('0 days 00:12:50.181818181')"
      ]
     },
     "execution_count": 6,
     "metadata": {},
     "output_type": "execute_result"
    }
   ],
   "source": [
    "CR.mean()"
   ]
  },
  {
   "cell_type": "code",
   "execution_count": 7,
   "id": "c0a89d13",
   "metadata": {},
   "outputs": [
    {
     "data": {
      "text/plain": [
       "<AxesSubplot:ylabel='Frequency'>"
      ]
     },
     "execution_count": 7,
     "metadata": {},
     "output_type": "execute_result"
    },
    {
     "data": {
      "image/png": "[encoded data removed]",
      "text/plain": [
       "<Figure size 432x288 with 1 Axes>"
      ]
     },
     "metadata": {
      "needs_background": "light"
     },
     "output_type": "display_data"
    }
   ],
   "source": [
    "CR.astype('timedelta64[s]').plot.hist()"
   ]
  },
  {
   "cell_type": "markdown",
   "id": "4b436d4f",
   "metadata": {},
   "source": [
    "**Q2** Will the data entered using Character Recorder be more consistent than the data entered using Excel? "
   ]
  },
  {
   "cell_type": "code",
   "execution_count": null,
   "id": "be066c20",
   "metadata": {},
   "outputs": [],
   "source": []
  },
  {
   "cell_type": "markdown",
   "id": "1af63dd2",
   "metadata": {},
   "source": [
    "**Q3** Will the user add new terms to the ontology while using Character Recorder? If so, how often?"
   ]
  },
  {
   "cell_type": "code",
   "execution_count": 8,
   "id": "13f3a907",
   "metadata": {},
   "outputs": [
    {
     "data": {
      "image/png": "[encoded data removed]",
      "text/plain": [
       "<Figure size 648x504 with 1 Axes>"
      ]
     },
     "metadata": {},
     "output_type": "display_data"
    }
   ],
   "source": [
    "plt.figure(figsize=[9,7])\n",
    "PA[\"use my terms\"][1:].dropna().value_counts().plot.pie(explode = (0, 0.1), autopct='%1.1f%%')\n",
    "plt.title(\"How many new ontology add by participants in each research\")\n",
    "plt.show()"
   ]
  },
  {
   "cell_type": "markdown",
   "id": "34425ef3",
   "metadata": {},
   "source": [
    "**Q4** Will the terms added by different users to the ontology create conflicts in the ontology? If so, what kinds of conflict? and what are their relative frequency? "
   ]
  },
  {
   "cell_type": "code",
   "execution_count": null,
   "id": "b7d7d38f",
   "metadata": {},
   "outputs": [],
   "source": []
  },
  {
   "cell_type": "markdown",
   "id": "277ed38a",
   "metadata": {},
   "source": [
    "**Q5** Will the user find the software intuitive to use and instructions clear and easy to follow?"
   ]
  },
  {
   "cell_type": "code",
   "execution_count": null,
   "id": "d5cdfe55",
   "metadata": {},
   "outputs": [],
   "source": []
  }
 ],
 "metadata": {
  "kernelspec": {
   "display_name": "Python 3",
   "language": "python",
   "name": "python3"
  },
  "language_info": {
   "codemirror_mode": {
    "name": "ipython",
    "version": 3
   },
   "file_extension": ".py",
   "mimetype": "text/x-python",
   "name": "python",
   "nbconvert_exporter": "python",
   "pygments_lexer": "ipython3",
   "version": "3.8.8"
  }
 },
 "nbformat": 4,
 "nbformat_minor": 5
}
