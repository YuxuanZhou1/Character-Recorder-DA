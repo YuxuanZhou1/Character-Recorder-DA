{
 "cells": [
  {
   "cell_type": "code",
   "execution_count": 67,
   "id": "46ccfc43",
   "metadata": {},
   "outputs": [],
   "source": [
    "from csv_diff import load_csv, compare\n",
    "import os\n",
    "import pandas as pd\n",
    "import numpy as np\n",
    "import seaborn as sns\n",
    "import matplotlib.pyplot as plt\n",
    "from scipy import stats\n",
    "from IPython.core.interactiveshell import InteractiveShell\n",
    "InteractiveShell.ast_node_interactivity = \"all\""
   ]
  },
  {
   "cell_type": "code",
   "execution_count": 46,
   "id": "af56a3e7",
   "metadata": {},
   "outputs": [],
   "source": [
    "PA = pd.read_csv('Files/CR-studentexperiences.csv', header = 1)"
   ]
  },
  {
   "cell_type": "markdown",
   "id": "994d8579",
   "metadata": {},
   "source": [
    "**Q1** Will the time taken for the users to enter a set of characters using Character Recorder be roughly the same as the time taken using Excel?"
   ]
  },
  {
   "cell_type": "code",
   "execution_count": 3,
   "id": "ea6f4085",
   "metadata": {},
   "outputs": [],
   "source": [
    "EX = pd.to_datetime(PA[\"end.1\"][1:]) - pd.to_datetime(PA[\"start.1\"][1:])\n",
    "CR = pd.to_datetime(PA[\"end.2\"][1:]) - pd.to_datetime(PA[\"start.2\"][1:])"
   ]
  },
  {
   "cell_type": "code",
   "execution_count": 54,
   "id": "78e28ab7",
   "metadata": {},
   "outputs": [
    {
     "data": {
      "text/plain": [
       "Timedelta('0 days 00:07:09.181818181')"
      ]
     },
     "execution_count": 54,
     "metadata": {},
     "output_type": "execute_result"
    },
    {
     "data": {
      "text/plain": [
       "<AxesSubplot:ylabel='Frequency'>"
      ]
     },
     "execution_count": 54,
     "metadata": {},
     "output_type": "execute_result"
    },
    {
     "data": {
      "image/png": "[encoded data removed]",
      "text/plain": [
       "<Figure size 432x288 with 1 Axes>"
      ]
     },
     "metadata": {
      "needs_background": "light"
     },
     "output_type": "display_data"
    }
   ],
   "source": [
    "EX.mean()\n",
    "EX.astype('timedelta64[s]').plot.hist()"
   ]
  },
  {
   "cell_type": "code",
   "execution_count": 55,
   "id": "c0a89d13",
   "metadata": {},
   "outputs": [
    {
     "data": {
      "text/plain": [
       "Timedelta('0 days 00:12:50.181818181')"
      ]
     },
     "execution_count": 55,
     "metadata": {},
     "output_type": "execute_result"
    },
    {
     "data": {
      "text/plain": [
       "<AxesSubplot:ylabel='Frequency'>"
      ]
     },
     "execution_count": 55,
     "metadata": {},
     "output_type": "execute_result"
    },
    {
     "data": {
      "image/png": "[encoded data removed]",
      "text/plain": [
       "<Figure size 432x288 with 1 Axes>"
      ]
     },
     "metadata": {
      "needs_background": "light"
     },
     "output_type": "display_data"
    }
   ],
   "source": [
    "CR.mean()\n",
    "CR.astype('timedelta64[s]').plot.hist()"
   ]
  },
  {
   "cell_type": "markdown",
   "id": "fe0a862d",
   "metadata": {},
   "source": [
    "We find out that the main value can not represent the user's time spent on the software based on the graph. So we will keep using the Box chart to explore more information. "
   ]
  },
  {
   "cell_type": "code",
   "execution_count": 31,
   "id": "7d55f92c",
   "metadata": {},
   "outputs": [
    {
     "data": {
      "image/png": "[encoded data removed]",
      "text/plain": [
       "<Figure size 432x288 with 1 Axes>"
      ]
     },
     "metadata": {
      "needs_background": "light"
     },
     "output_type": "display_data"
    }
   ],
   "source": [
    "data_1 = EX\n",
    "data_2 = CR\n",
    "data = [data_1, data_2]\n",
    "\n",
    "plt.boxplot(data)\n",
    "plt.xticks([1, 2], [\"Excel\", \"Character Recorder\"])\n",
    "plt.title(\"Boxplot for Excel and Character Recorder\")\n",
    "plt.ylabel(\"time spent\")\n",
    "plt.show()\n"
   ]
  },
  {
   "cell_type": "markdown",
   "id": "89cda448",
   "metadata": {},
   "source": [
    "After we look through Boxplot, we find out that there are two outliers in EX and one in CR. So, in the next step, We will remove those outliers and get their mean and median time."
   ]
  },
  {
   "cell_type": "code",
   "execution_count": 37,
   "id": "de018cc3",
   "metadata": {},
   "outputs": [],
   "source": [
    "def outlier_remove(col):\n",
    "\n",
    "    mid = col.quantile(0.75) - col.quantile(0.25)\n",
    "\n",
    "    top = col.quantile(0.75) + 1.5 * mid\n",
    "    bot = col.quantile(0.25) - 1.5 * mid\n",
    "\n",
    "    def remove(x):\n",
    "        if x <= top and x >= bot:\n",
    "            return x\n",
    "\n",
    "    return col.map(remove)"
   ]
  },
  {
   "cell_type": "code",
   "execution_count": 48,
   "id": "bc4d362c",
   "metadata": {},
   "outputs": [],
   "source": [
    "New_CR = outlier_remove(CR).dropna()\n",
    "New_EX = outlier_remove(EX).dropna()"
   ]
  },
  {
   "cell_type": "code",
   "execution_count": 50,
   "id": "8e59308b",
   "metadata": {},
   "outputs": [
    {
     "data": {
      "image/png": "[encoded data removed]",
      "text/plain": [
       "<Figure size 432x288 with 1 Axes>"
      ]
     },
     "metadata": {
      "needs_background": "light"
     },
     "output_type": "display_data"
    }
   ],
   "source": [
    "data_1 = New_EX\n",
    "data_2 = New_CR\n",
    "data = [data_1, data_2]\n",
    "\n",
    "plt.boxplot(data)\n",
    "plt.xticks([1, 2], [\"New Excel\", \"New Character Recorder\"])\n",
    "plt.title(\"Boxplot for Excel and Character Recorder\")\n",
    "plt.ylabel(\"time spent\")\n",
    "plt.show()"
   ]
  },
  {
   "cell_type": "code",
   "execution_count": 60,
   "id": "98ba5508",
   "metadata": {},
   "outputs": [
    {
     "name": "stdout",
     "output_type": "stream",
     "text": [
      "Median time spent : 0 days 00:05:26.500000\n",
      "Mean time spent : 0 days 00:05:48.300000\n"
     ]
    }
   ],
   "source": [
    "print('Excel Median time spent : ' + str(New_EX.median()))\n",
    "print('Excel Mean time spent : ' +  str(New_EX.mean()))"
   ]
  },
  {
   "cell_type": "code",
   "execution_count": 61,
   "metadata": {},
   "outputs": [
    {
     "name": "stdout",
     "output_type": "stream",
     "text": [
      "Character Recorder Median time spent : 0 days 00:12:09\n",
      "Character Recorder Mean time spent : 0 days 00:12:14.523809523\n"
     ]
    }
   ],
   "source": [
    "print('Character Recorder Median time spent : ' + str(New_CR.median()))\n",
    "print('Character Recorder Mean time spent : ' +  str(New_CR.mean()))"
   ]
  },
  {
   "cell_type": "markdown",
   "id": "490e33fe",
   "metadata": {},
   "source": [
    "After we delete outlier, we will get the t-test result"
   ]
  },
  {
   "cell_type": "code",
   "execution_count": 69,
   "id": "2f63aaca",
   "metadata": {},
   "outputs": [
    {
     "data": {
      "text/plain": [
       "Ttest_relResult(statistic=-1.000000850339776, pvalue=0.3281828595440006)"
      ]
     },
     "execution_count": 69,
     "metadata": {},
     "output_type": "execute_result"
    }
   ],
   "source": [
    "stats.ttest_rel(EX, CR)"
   ]
  },
  {
   "cell_type": "markdown",
   "id": "4b436d4f",
   "metadata": {},
   "source": [
    "**Q2** Will the data entered using Character Recorder be more consistent than the data entered using Excel? "
   ]
  },
  {
   "cell_type": "code",
   "execution_count": null,
   "id": "be066c20",
   "metadata": {},
   "outputs": [],
   "source": []
  },
  {
   "cell_type": "markdown",
   "id": "1af63dd2",
   "metadata": {},
   "source": [
    "**Q3** Will the user add new terms to the ontology while using Character Recorder? If so, how often?"
   ]
  },
  {
   "cell_type": "code",
   "execution_count": 8,
   "id": "13f3a907",
   "metadata": {},
   "outputs": [
    {
     "data": {
      "image/png": "[encoded data removed]",
      "text/plain": [
       "<Figure size 648x504 with 1 Axes>"
      ]
     },
     "metadata": {},
     "output_type": "display_data"
    }
   ],
   "source": [
    "plt.figure(figsize=[9,7])\n",
    "PA[\"use my terms\"][1:].dropna().value_counts().plot.pie(explode = (0, 0.1), autopct='%1.1f%%')\n",
    "plt.title(\"How many new ontology add by participants in each research\")\n",
    "plt.show()"
   ]
  },
  {
   "cell_type": "markdown",
   "id": "34425ef3",
   "metadata": {},
   "source": [
    "**Q4** Will the terms added by different users to the ontology create conflicts in the ontology? If so, what kinds of conflict? and what are their relative frequency? "
   ]
  },
  {
   "cell_type": "code",
   "execution_count": null,
   "id": "b7d7d38f",
   "metadata": {},
   "outputs": [],
   "source": []
  },
  {
   "cell_type": "markdown",
   "id": "277ed38a",
   "metadata": {},
   "source": [
    "**Q5** Will the user find the software intuitive to use and instructions clear and easy to follow?"
   ]
  },
  {
   "cell_type": "code",
   "execution_count": null,
   "id": "d5cdfe55",
   "metadata": {},
   "outputs": [],
   "source": []
  }
 ],
 "metadata": {
  "kernelspec": {
   "display_name": "Python 3",
   "language": "python",
   "name": "python3"
  },
  "language_info": {
   "codemirror_mode": {
    "name": "ipython",
    "version": 3
   },
   "file_extension": ".py",
   "mimetype": "text/x-python",
   "name": "python",
   "nbconvert_exporter": "python",
   "pygments_lexer": "ipython3",
   "version": "3.8.8"
  }
 },
 "nbformat": 4,
 "nbformat_minor": 5
}
