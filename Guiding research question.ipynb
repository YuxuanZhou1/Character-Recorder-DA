{
 "cells": [
  {
   "cell_type": "code",
   "execution_count": 19,
   "id": "46ccfc43",
   "metadata": {},
   "outputs": [],
   "source": [
    "import os\n",
    "import pandas as pd\n",
    "import numpy as np\n",
    "import seaborn as sns\n",
    "import matplotlib.pyplot as plt\n",
    "from scipy import stats"
   ]
  },
  {
   "cell_type": "code",
   "execution_count": 20,
   "id": "af56a3e7",
   "metadata": {},
   "outputs": [],
   "source": [
    "PA = pd.read_csv('Files/CR-studentexperiences.csv', header = 1)"
   ]
  },
  {
   "cell_type": "markdown",
   "id": "994d8579",
   "metadata": {},
   "source": [
    "**Q1** Will the time taken for the users to enter a set of characters using Character Recorder be roughly the same as the time taken using Excel?"
   ]
  },
  {
   "cell_type": "code",
   "execution_count": 25,
   "id": "ea6f4085",
   "metadata": {},
   "outputs": [],
   "source": [
    "EX = pd.to_datetime(PA[\"end.1\"][9:]) - pd.to_datetime(PA[\"start.1\"][9:])\n",
    "CR = pd.to_datetime(PA[\"end.2\"][9:]) - pd.to_datetime(PA[\"start.2\"][9:])"
   ]
  },
  {
   "cell_type": "code",
   "execution_count": 29,
   "id": "78e28ab7",
   "metadata": {},
   "outputs": [
    {
     "data": {
      "text/plain": [
       "Timedelta('0 days 00:08:07.333333333')"
      ]
     },
     "execution_count": 29,
     "metadata": {},
     "output_type": "execute_result"
    },
    {
     "data": {
      "text/plain": [
       "<AxesSubplot:ylabel='Frequency'>"
      ]
     },
     "execution_count": 29,
     "metadata": {},
     "output_type": "execute_result"
    },
    {
     "data": {
      "text/plain": [
       "Text(0.5, 1.0, \"Participant's Excel behavior distribution\")"
      ]
     },
     "execution_count": 29,
     "metadata": {},
     "output_type": "execute_result"
    },
    {
     "data": {
      "text/plain": [
       "Text(0.5, 0, 'Times')"
      ]
     },
     "execution_count": 29,
     "metadata": {},
     "output_type": "execute_result"
    },
    {
     "data": {
      "image/png": "[encoded data removed]",
      "text/plain": [
       "<Figure size 432x288 with 1 Axes>"
      ]
     },
     "metadata": {
      "needs_background": "light"
     },
     "output_type": "display_data"
    }
   ],
   "source": [
    "EX.mean()\n",
    "EX.astype('timedelta64[s]').plot.hist()\n",
    "\n",
    "plt.title(\"Participant's Excel behavior distribution\")\n",
    "plt.xlabel(\"Times\") \n",
    "plt.savefig(os.path.join('Pics/Guilding Analysis/EX-behavior.png'), dpi=300, format='png', bbox_inches='tight')\n",
    "plt.show()"
   ]
  },
  {
   "cell_type": "code",
   "execution_count": 30,
   "id": "c0a89d13",
   "metadata": {},
   "outputs": [
    {
     "data": {
      "text/plain": [
       "Timedelta('0 days 00:12:44.466666666')"
      ]
     },
     "execution_count": 30,
     "metadata": {},
     "output_type": "execute_result"
    },
    {
     "data": {
      "text/plain": [
       "<AxesSubplot:ylabel='Frequency'>"
      ]
     },
     "execution_count": 30,
     "metadata": {},
     "output_type": "execute_result"
    },
    {
     "data": {
      "text/plain": [
       "Text(0.5, 1.0, \"Participant's Character recorder behavior distribution\")"
      ]
     },
     "execution_count": 30,
     "metadata": {},
     "output_type": "execute_result"
    },
    {
     "data": {
      "text/plain": [
       "Text(0.5, 0, 'Times')"
      ]
     },
     "execution_count": 30,
     "metadata": {},
     "output_type": "execute_result"
    },
    {
     "data": {
      "image/png": "[encoded data removed]",
      "text/plain": [
       "<Figure size 432x288 with 1 Axes>"
      ]
     },
     "metadata": {
      "needs_background": "light"
     },
     "output_type": "display_data"
    }
   ],
   "source": [
    "CR.mean()\n",
    "CR.astype('timedelta64[s]').plot.hist()\n",
    "\n",
    "plt.title(\"Participant's Character recorder behavior distribution\")\n",
    "plt.xlabel(\"Times\") \n",
    "plt.savefig(os.path.join('Pics/Guilding Analysis/CR-behavior.png'), dpi=300, format='png', bbox_inches='tight')\n",
    "plt.show()"
   ]
  },
  {
   "cell_type": "markdown",
   "id": "fe0a862d",
   "metadata": {},
   "source": [
    "We find out that the main value can not represent the user's time spent on the software based on the graph. So we will keep using the Box chart to explore more information. "
   ]
  },
  {
   "cell_type": "code",
   "execution_count": 35,
   "id": "7d55f92c",
   "metadata": {},
   "outputs": [
    {
     "data": {
      "text/plain": [
       "{'whiskers': [<matplotlib.lines.Line2D at 0x7fe5fa8f1a00>,\n",
       "  <matplotlib.lines.Line2D at 0x7fe5fa8f1d60>,\n",
       "  <matplotlib.lines.Line2D at 0x7fe5fa9091f0>,\n",
       "  <matplotlib.lines.Line2D at 0x7fe5fa909520>],\n",
       " 'caps': [<matplotlib.lines.Line2D at 0x7fe5fa8fd100>,\n",
       "  <matplotlib.lines.Line2D at 0x7fe5fa8fd460>,\n",
       "  <matplotlib.lines.Line2D at 0x7fe5fa909850>,\n",
       "  <matplotlib.lines.Line2D at 0x7fe5fa909b80>],\n",
       " 'boxes': [<matplotlib.lines.Line2D at 0x7fe5fa8f1610>,\n",
       "  <matplotlib.lines.Line2D at 0x7fe5fa8fde80>],\n",
       " 'medians': [<matplotlib.lines.Line2D at 0x7fe5fa8fd7f0>,\n",
       "  <matplotlib.lines.Line2D at 0x7fe5fa909eb0>],\n",
       " 'fliers': [<matplotlib.lines.Line2D at 0x7fe5fa8fdb50>,\n",
       "  <matplotlib.lines.Line2D at 0x7fe5fa916220>],\n",
       " 'means': []}"
      ]
     },
     "execution_count": 35,
     "metadata": {},
     "output_type": "execute_result"
    },
    {
     "data": {
      "text/plain": [
       "([<matplotlib.axis.XTick at 0x7fe5a89c1430>,\n",
       "  <matplotlib.axis.XTick at 0x7fe5a89c1400>],\n",
       " [Text(1, 0, 'Excel'), Text(2, 0, 'Character Recorder')])"
      ]
     },
     "execution_count": 35,
     "metadata": {},
     "output_type": "execute_result"
    },
    {
     "data": {
      "text/plain": [
       "Text(0.5, 1.0, 'Boxplot for Excel and Character Recorder')"
      ]
     },
     "execution_count": 35,
     "metadata": {},
     "output_type": "execute_result"
    },
    {
     "data": {
      "text/plain": [
       "Text(0, 0.5, 'time spent')"
      ]
     },
     "execution_count": 35,
     "metadata": {},
     "output_type": "execute_result"
    },
    {
     "data": {
      "image/png": "[encoded data removed]",
      "text/plain": [
       "<Figure size 432x288 with 1 Axes>"
      ]
     },
     "metadata": {
      "needs_background": "light"
     },
     "output_type": "display_data"
    }
   ],
   "source": [
    "data_1 = EX\n",
    "data_2 = CR\n",
    "data = [data_1, data_2]\n",
    "\n",
    "plt.boxplot(data)\n",
    "plt.xticks([1, 2], [\"Excel\", \"Character Recorder\"])\n",
    "plt.title(\"Boxplot for Excel and Character Recorder\")\n",
    "plt.ylabel(\"time spent\")\n",
    "plt.savefig(os.path.join('Pics/Guilding Analysis/Boxplot.png'), dpi=300, format='png', bbox_inches='tight')\n",
    "plt.show()\n"
   ]
  },
  {
   "cell_type": "markdown",
   "id": "89cda448",
   "metadata": {},
   "source": [
    "After we look through Boxplot, we find out that there are two outliers in EX and one in CR. So, in the next step, We will remove those outliers and get their mean and median time."
   ]
  },
  {
   "cell_type": "code",
   "execution_count": 36,
   "id": "de018cc3",
   "metadata": {},
   "outputs": [],
   "source": [
    "def outlier_remove(col):\n",
    "\n",
    "    mid = col.quantile(0.75) - col.quantile(0.25)\n",
    "\n",
    "    top = col.quantile(0.75) + 1.5 * mid\n",
    "    bot = col.quantile(0.25) - 1.5 * mid\n",
    "\n",
    "    def remove(x):\n",
    "        if x <= top and x >= bot:\n",
    "            return x\n",
    "\n",
    "    return col.map(remove)"
   ]
  },
  {
   "cell_type": "code",
   "execution_count": 37,
   "id": "bc4d362c",
   "metadata": {},
   "outputs": [],
   "source": [
    "New_CR = outlier_remove(CR).dropna()\n",
    "New_EX = outlier_remove(EX).dropna()"
   ]
  },
  {
   "cell_type": "code",
   "execution_count": 38,
   "id": "8e59308b",
   "metadata": {},
   "outputs": [
    {
     "data": {
      "text/plain": [
       "{'whiskers': [<matplotlib.lines.Line2D at 0x7fe5fa9c56a0>,\n",
       "  <matplotlib.lines.Line2D at 0x7fe5fa9c59a0>,\n",
       "  <matplotlib.lines.Line2D at 0x7fe6090c0b20>,\n",
       "  <matplotlib.lines.Line2D at 0x7fe6090c0d90>],\n",
       " 'caps': [<matplotlib.lines.Line2D at 0x7fe5fa9c5ca0>,\n",
       "  <matplotlib.lines.Line2D at 0x7fe6090c0040>,\n",
       "  <matplotlib.lines.Line2D at 0x7fe6090cf100>,\n",
       "  <matplotlib.lines.Line2D at 0x7fe6090cf430>],\n",
       " 'boxes': [<matplotlib.lines.Line2D at 0x7fe5fa9c5340>,\n",
       "  <matplotlib.lines.Line2D at 0x7fe6090c0a30>],\n",
       " 'medians': [<matplotlib.lines.Line2D at 0x7fe6090c03a0>,\n",
       "  <matplotlib.lines.Line2D at 0x7fe6090cf760>],\n",
       " 'fliers': [<matplotlib.lines.Line2D at 0x7fe6090c0700>,\n",
       "  <matplotlib.lines.Line2D at 0x7fe6090cfa90>],\n",
       " 'means': []}"
      ]
     },
     "execution_count": 38,
     "metadata": {},
     "output_type": "execute_result"
    },
    {
     "data": {
      "text/plain": [
       "([<matplotlib.axis.XTick at 0x7fe5fa9955b0>,\n",
       "  <matplotlib.axis.XTick at 0x7fe5fa995eb0>],\n",
       " [Text(1, 0, 'New Excel'), Text(2, 0, 'New Character Recorder')])"
      ]
     },
     "execution_count": 38,
     "metadata": {},
     "output_type": "execute_result"
    },
    {
     "data": {
      "text/plain": [
       "Text(0.5, 1.0, 'Boxplot for Excel and Character Recorder')"
      ]
     },
     "execution_count": 38,
     "metadata": {},
     "output_type": "execute_result"
    },
    {
     "data": {
      "text/plain": [
       "Text(0, 0.5, 'time spent')"
      ]
     },
     "execution_count": 38,
     "metadata": {},
     "output_type": "execute_result"
    },
    {
     "data": {
      "image/png": "[encoded data removed]",
      "text/plain": [
       "<Figure size 432x288 with 1 Axes>"
      ]
     },
     "metadata": {
      "needs_background": "light"
     },
     "output_type": "display_data"
    }
   ],
   "source": [
    "data_1 = New_EX\n",
    "data_2 = New_CR\n",
    "data = [data_1, data_2]\n",
    "\n",
    "plt.boxplot(data)\n",
    "plt.xticks([1, 2], [\"New Excel\", \"New Character Recorder\"])\n",
    "plt.title(\"Boxplot for Excel and Character Recorder\")\n",
    "plt.ylabel(\"time spent\")\n",
    "plt.savefig(os.path.join('Pics/Guilding Analysis/New-Boxplot.png'), dpi=300, format='png', bbox_inches='tight')\n",
    "plt.show()"
   ]
  },
  {
   "cell_type": "code",
   "execution_count": 40,
   "id": "98ba5508",
   "metadata": {},
   "outputs": [
    {
     "name": "stdout",
     "output_type": "stream",
     "text": [
      "Excel Median time spent : 0 days 00:06:04\n",
      "Excel Mean time spent : 0 days 00:06:11.846153846\n"
     ]
    }
   ],
   "source": [
    "print('Excel Median time spent : ' + str(New_EX.median()))\n",
    "print('Excel Mean time spent : ' +  str(New_EX.mean()))"
   ]
  },
  {
   "cell_type": "code",
   "execution_count": 41,
   "metadata": {},
   "outputs": [
    {
     "name": "stdout",
     "output_type": "stream",
     "text": [
      "Character Recorder Median time spent : 0 days 00:11:14.500000\n",
      "Character Recorder Mean time spent : 0 days 00:11:50.571428571\n"
     ]
    }
   ],
   "source": [
    "print('Character Recorder Median time spent : ' + str(New_CR.median()))\n",
    "print('Character Recorder Mean time spent : ' +  str(New_CR.mean()))"
   ]
  },
  {
   "cell_type": "markdown",
   "id": "490e33fe",
   "metadata": {},
   "source": [
    "After we delete outlier, we will get the t-test result"
   ]
  },
  {
   "cell_type": "code",
   "execution_count": 13,
   "id": "2f63aaca",
   "metadata": {},
   "outputs": [
    {
     "data": {
      "text/plain": [
       "Ttest_relResult(statistic=-1.000000850339776, pvalue=0.3281828595440006)"
      ]
     },
     "execution_count": 13,
     "metadata": {},
     "output_type": "execute_result"
    }
   ],
   "source": [
    "stats.ttest_rel(EX, CR)"
   ]
  },
  {
   "cell_type": "markdown",
   "id": "4b436d4f",
   "metadata": {},
   "source": [
    "**Q2** Will the data entered using Character Recorder be more consistent than the data entered using Excel? "
   ]
  },
  {
   "cell_type": "code",
   "execution_count": null,
   "id": "be066c20",
   "metadata": {},
   "outputs": [],
   "source": []
  },
  {
   "cell_type": "markdown",
   "id": "1af63dd2",
   "metadata": {},
   "source": [
    "**Q3** Will the user add new terms to the ontology while using Character Recorder? If so, how often?"
   ]
  },
  {
   "cell_type": "code",
   "execution_count": 14,
   "id": "13f3a907",
   "metadata": {},
   "outputs": [
    {
     "data": {
      "text/plain": [
       "<Figure size 648x504 with 0 Axes>"
      ]
     },
     "execution_count": 14,
     "metadata": {},
     "output_type": "execute_result"
    },
    {
     "data": {
      "text/plain": [
       "<AxesSubplot:ylabel='use my terms'>"
      ]
     },
     "execution_count": 14,
     "metadata": {},
     "output_type": "execute_result"
    },
    {
     "data": {
      "text/plain": [
       "Text(0.5, 1.0, 'How many new ontology add by participants in each research')"
      ]
     },
     "execution_count": 14,
     "metadata": {},
     "output_type": "execute_result"
    },
    {
     "data": {
      "image/png": "[encoded data removed]",
      "text/plain": [
       "<Figure size 648x504 with 1 Axes>"
      ]
     },
     "metadata": {},
     "output_type": "display_data"
    }
   ],
   "source": [
    "plt.figure(figsize=[9,7])\n",
    "PA[\"use my terms\"][1:].dropna().value_counts().plot.pie(explode = (0, 0.1), autopct='%1.1f%%')\n",
    "plt.title(\"How many new ontology add by participants in each research\")\n",
    "plt.show()"
   ]
  },
  {
   "cell_type": "markdown",
   "id": "34425ef3",
   "metadata": {},
   "source": [
    "**Q4** Will the terms added by different users to the ontology create conflicts in the ontology? If so, what kinds of conflict? and what are their relative frequency? "
   ]
  },
  {
   "cell_type": "code",
   "execution_count": null,
   "id": "b7d7d38f",
   "metadata": {},
   "outputs": [],
   "source": []
  },
  {
   "cell_type": "markdown",
   "id": "277ed38a",
   "metadata": {},
   "source": [
    "**Q5** Will the user find the software intuitive to use and instructions clear and easy to follow?"
   ]
  },
  {
   "cell_type": "code",
   "execution_count": null,
   "id": "d5cdfe55",
   "metadata": {},
   "outputs": [],
   "source": []
  }
 ],
 "metadata": {
  "kernelspec": {
   "display_name": "Python 3",
   "language": "python",
   "name": "python3"
  },
  "language_info": {
   "codemirror_mode": {
    "name": "ipython",
    "version": 3
   },
   "file_extension": ".py",
   "mimetype": "text/x-python",
   "name": "python",
   "nbconvert_exporter": "python",
   "pygments_lexer": "ipython3",
   "version": "3.8.8"
  }
 },
 "nbformat": 4,
 "nbformat_minor": 5
}
