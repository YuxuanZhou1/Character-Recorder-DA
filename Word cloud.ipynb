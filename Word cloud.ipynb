{
 "cells": [
  {
   "cell_type": "code",
   "execution_count": 127,
   "id": "82fe4134",
   "metadata": {},
   "outputs": [],
   "source": [
    "from wordcloud import WordCloud\n",
    "import matplotlib.pyplot as plt\n",
    "import pandas as pd\n",
    "import os"
   ]
  },
  {
   "cell_type": "code",
   "execution_count": null,
   "id": "4d7d8544",
   "metadata": {},
   "outputs": [],
   "source": [
    "file = open(\"Files/CR-shortanswer.csv\")\n",
    "reader_contents = pd.read_csv(file, header = 0)"
   ]
  },
  {
   "cell_type": "markdown",
   "id": "a77cc3e4",
   "metadata": {},
   "source": [
    "Collected issue reports from questionnaire Q3-Q8 (SE) and built word clouds. "
   ]
  },
  {
   "cell_type": "code",
   "execution_count": null,
   "id": "3dd2ac54",
   "metadata": {},
   "outputs": [],
   "source": [
    "issues = reader_contents[[\"Q13\", \"Q4\", \"Q6\", \"Q7\", \"Q8\"]]\n",
    "issues = issues[2:]"
   ]
  },
  {
   "cell_type": "markdown",
   "id": "05f3b953",
   "metadata": {},
   "source": [
    "Collected suggestions and built word clouds from Q9 (SE)."
   ]
  },
  {
   "cell_type": "code",
   "execution_count": null,
   "id": "19408c25",
   "metadata": {},
   "outputs": [],
   "source": [
    "suggestions = reader_contents[[\"Q9\"]]\n",
    "suggestions = suggestions[2:]"
   ]
  },
  {
   "cell_type": "markdown",
   "id": "c7d0c501",
   "metadata": {},
   "source": [
    "Collected good features from the CR and built a word cloud from Q10 (SE)."
   ]
  },
  {
   "cell_type": "code",
   "execution_count": null,
   "id": "86b0ce7f",
   "metadata": {},
   "outputs": [],
   "source": [
    "good_features = reader_contents[[\"Q10\"]]\n",
    "good_features = good_features[2:]"
   ]
  },
  {
   "cell_type": "code",
   "execution_count": null,
   "id": "300df0c4",
   "metadata": {},
   "outputs": [],
   "source": [
    "def word_cloud(lis):\n",
    "    information_store = []\n",
    "    \n",
    "    for i in lis:\n",
    "        for q in lis[i]:\n",
    "            if pd.isna(q) != True:\n",
    "                information_store.append([q])\n",
    "    text = \"\"\n",
    "    \n",
    "    for row in information_store:\n",
    "        for word in row :\n",
    "            text = text + \" \" + word\n",
    "    \n",
    "    return text"
   ]
  },
  {
   "cell_type": "code",
   "execution_count": null,
   "id": "9be12923",
   "metadata": {},
   "outputs": [],
   "source": [
    "wordcloud_1 = WordCloud(width=480, height=480, background_color=\"pink\").generate(word_cloud(issues))\n",
    "wordcloud_2 = WordCloud(width=480, height=480, background_color=\"green\").generate(word_cloud(suggestions))\n",
    "wordcloud_3 = WordCloud(width=480, height=480, background_color=\"black\").generate(word_cloud(good_features))"
   ]
  },
  {
   "cell_type": "code",
   "execution_count": null,
   "id": "13405558",
   "metadata": {},
   "outputs": [],
   "source": [
    "plt.figure(figsize = [10,10])\n",
    "plt.imshow(wordcloud_1, interpolation=\"bilinear\")\n",
    "\n",
    "plt.axis(\"off\")\n",
    "plt.margins(x=0, y=0)\n",
    "plt.show()"
   ]
  },
  {
   "cell_type": "code",
   "execution_count": null,
   "id": "9321c521",
   "metadata": {},
   "outputs": [],
   "source": [
    "plt.savefig(os.path.join('Pics/Word Cloud/wc1.png'), dpi=300, format='png', bbox_inches='tight')"
   ]
  },
  {
   "cell_type": "code",
   "execution_count": null,
   "id": "019fee37",
   "metadata": {},
   "outputs": [],
   "source": [
    "plt.figure(figsize = [10,10])\n",
    "plt.imshow(wordcloud_2, interpolation=\"bilinear\")\n",
    "\n",
    "plt.axis(\"off\")\n",
    "plt.margins(x=0, y=0)\n",
    "plt.show()"
   ]
  },
  {
   "cell_type": "code",
   "execution_count": null,
   "id": "fdb62098",
   "metadata": {},
   "outputs": [],
   "source": [
    "plt.savefig(os.path.join('Pics/Word Cloud/wc2.png'), dpi=300, format='png', bbox_inches='tight')"
   ]
  },
  {
   "cell_type": "code",
   "execution_count": null,
   "id": "b4f2f56b",
   "metadata": {},
   "outputs": [],
   "source": [
    "plt.figure(figsize = [10,10])\n",
    "plt.imshow(wordcloud_3, interpolation=\"bilinear\")\n",
    "\n",
    "plt.axis(\"off\")\n",
    "plt.margins(x=0, y=0)\n",
    "plt.show()"
   ]
  },
  {
   "cell_type": "code",
   "execution_count": null,
   "id": "ebaaeb28",
   "metadata": {},
   "outputs": [],
   "source": [
    "plt.savefig(os.path.join('Pics/Word Cloud/wc3.png'), dpi=300, format='png', bbox_inches='tight')"
   ]
  },
  {
   "cell_type": "markdown",
   "id": "97255863",
   "metadata": {},
   "source": [
    "Words will be used in the research."
   ]
  },
  {
   "cell_type": "code",
   "execution_count": null,
   "id": "9f225b04",
   "metadata": {},
   "outputs": [],
   "source": [
    "# Count excel words\n",
    "def excel_word_detach():\n",
    "    # read excel files and fill NA values as \"of\", trans interger to string\n",
    "    folder = os.listdir(\"Experiment Files\")\n",
    "    folder.remove('.DS_Store')\n",
    "    d={}\n",
    "\n",
    "    for i in folder:\n",
    "        test = pd.read_excel(\"Experiment Files/\" + i + \"/\" + i + \".xlsx\").fillna(\"of\").astype(str)\n",
    "        # remove stopwords (e.g., of, the, or) and create empty list to store values\n",
    "        remove = [\"of\", \"the\", \"or\"]\n",
    "        store = []\n",
    "\n",
    "        # store non-na value into store\n",
    "        for i in test:\n",
    "            for p in test[i]:\n",
    "                if p not in remove:\n",
    "                    store.append(p.split())\n",
    "\n",
    "        # store non-stopwords value into word_count\n",
    "        word_count = []\n",
    "        for q in store:\n",
    "            for c in q:\n",
    "                if c not in remove:\n",
    "                    word_count.append(c)\n",
    "\n",
    "        # store and count value, store those value and words into dictionary d\n",
    "        for x in word_count:\n",
    "            if not x in d:\n",
    "                d[x]=1\n",
    "            else:\n",
    "                d[x]=d[x]+1\n",
    "    return d"
   ]
  },
  {
   "cell_type": "code",
   "execution_count": null,
   "id": "ef76cb71",
   "metadata": {},
   "outputs": [],
   "source": [
    "orders = excel_word_detach()\n",
    "last_sort_orders_excel = {}\n",
    "\n",
    "sort_orders = sorted(orders.items(), key=lambda x: x[1], reverse=False)\n",
    "\n",
    "punctuations = \";:.,\"\n",
    "key_list = ()\n",
    "store = []\n",
    "\n",
    "for i in sort_orders:\n",
    "    key_list = i[0]\n",
    "\n",
    "    for p in punctuations:\n",
    "\t    key_list = key_list.replace(p, \"\")    \n",
    "    \n",
    "    last_sort_orders_excel[key_list] = i[1]\n",
    "\n",
    "# remove punctuation from orders and save those value into dictionary\n",
    "last_sort_orders = sorted(last_sort_orders_excel.items(), key=lambda x: x[1], reverse=False)\n",
    "last_orders = {}\n",
    "\n",
    "# last_sort_orders will be the output dictionary for future useage\n",
    "for i in last_sort_orders:\n",
    "\tlast_orders[i[0].replace(\";\", \"\")] = i[1]"
   ]
  },
  {
   "cell_type": "code",
   "execution_count": null,
   "id": "c547b4d0",
   "metadata": {},
   "outputs": [],
   "source": [
    "# Store words as dictionary, and set key as lower key.\n",
    "alphabet = dict()\n",
    "# alphabet =  {k.lower(): v for k, v in last_orders.items()}\n",
    "\n",
    "for p, q in last_orders.items():\n",
    "    if p.lower() in alphabet:\n",
    "       alphabet[p.lower()] = alphabet[p.lower()] + q\n",
    "    else:\n",
    "       alphabet[p.lower()] = q"
   ]
  },
  {
   "cell_type": "code",
   "execution_count": null,
   "id": "65d57172",
   "metadata": {},
   "outputs": [],
   "source": [
    "alphabet"
   ]
  },
  {
   "cell_type": "code",
   "execution_count": null,
   "id": "9ea91642",
   "metadata": {},
   "outputs": [],
   "source": [
    "wordcloud_Excel = WordCloud(width=480, height=480).generate_from_frequencies(alphabet)\n",
    "plt.figure(figsize=(15,8))\n",
    "plt.imshow(wordcloud_Excel)\n",
    "plt.axis(\"off\")\n",
    "plt.margins(x=0, y=0)\n",
    "\n",
    "plt.savefig(os.path.join('Pics/Word Cloud/Excel_wordcloud.png'), dpi=300, format='png', bbox_inches='tight')\n",
    "plt.show()"
   ]
  },
  {
   "cell_type": "code",
   "execution_count": null,
   "id": "99be4747",
   "metadata": {},
   "outputs": [],
   "source": [
    "# Count cr words\n",
    "def cr_word_detach():\n",
    "    # read cr files and fill NA values as \"of\", trans interger to string\n",
    "    folder = os.listdir(\"Experiment Files\")\n",
    "    folder.remove('.DS_Store')\n",
    "    d={}\n",
    "\n",
    "    for i in folder:\n",
    "        test = pd.read_csv(\"Experiment Files/\" + i + \"/Carex muskingumensis/Carex muskingumensis.csv\").astype(str)\n",
    "        test = test.drop(columns=['Summary'])\n",
    "        # remove stopwords (e.g., of, the, or) and create empty list to store values\n",
    "        remove = [\"of\", \"the\", \"or\"]\n",
    "        store = []\n",
    "\n",
    "        # store non-na value into store\n",
    "        for i in test:\n",
    "            for p in test[i]:\n",
    "                if p not in remove:\n",
    "                    store.append(p.split())\n",
    "\n",
    "        # store non-stopwords value into word_count\n",
    "        word_count = []\n",
    "        for q in store:\n",
    "            for c in q:\n",
    "                if c not in remove:\n",
    "                    word_count.append(c)\n",
    "\n",
    "        # store and count value, store those value and words into dictionary d\n",
    "        for x in word_count:\n",
    "            if not x in d:\n",
    "                d[x]=1\n",
    "            else:\n",
    "                d[x]=d[x]+1\n",
    "    return d"
   ]
  },
  {
   "cell_type": "code",
   "execution_count": null,
   "id": "a28f89bd",
   "metadata": {},
   "outputs": [],
   "source": [
    "orders = cr_word_detach()\n",
    "last_sort_orders = {}\n",
    "\n",
    "# remove punctuation from orders and save those value into dictionary\n",
    "sort_orders = sorted(orders.items(), key=lambda x: x[1], reverse=False)\n",
    "\n",
    "# last_sort_orders will be the output dictionary for future useage\n",
    "for i in sort_orders:\n",
    "\tlast_sort_orders[i[0].replace(\";\", \"\")] = i[1]"
   ]
  },
  {
   "cell_type": "code",
   "execution_count": null,
   "id": "d67ca18f",
   "metadata": {},
   "outputs": [],
   "source": [
    "# Store words as dictionary, and set key as lower key.\n",
    "alphabet_1 = dict()\n",
    "# alphabet_1 =  {k.lower(): v for k, v in last_sort_orders.items()}\n",
    "\n",
    "for p, q in last_sort_orders.items():\n",
    "    if p.lower() in alphabet_1:\n",
    "       alphabet_1[p.lower()] = alphabet_1[p.lower()] + q\n",
    "    else:\n",
    "       alphabet_1[p.lower()] = q"
   ]
  },
  {
   "cell_type": "code",
   "execution_count": null,
   "id": "434e2aef",
   "metadata": {},
   "outputs": [],
   "source": [
    "alphabet_1"
   ]
  },
  {
   "cell_type": "code",
   "execution_count": null,
   "id": "52c0f488",
   "metadata": {},
   "outputs": [],
   "source": [
    "wordcloud_CR = WordCloud(width=480, height=480).generate_from_frequencies(alphabet_1)\n",
    "plt.figure(figsize=(15,8))\n",
    "plt.imshow(wordcloud_CR)\n",
    "plt.axis(\"off\")\n",
    "plt.margins(x=0, y=0)\n",
    "plt.savefig(os.path.join('Pics/Word Cloud/CR_wordcloud.png'), dpi=300, format='png', bbox_inches='tight')\n",
    "plt.show()"
   ]
  },
  {
   "cell_type": "code",
   "execution_count": null,
   "id": "513dc216",
   "metadata": {},
   "outputs": [],
   "source": [
    "# read cr files and fill NA values as \"of\", trans interger to string\n",
    "# get who made mistake and how many times they made. \n",
    "folder = os.listdir(\"Experiment Files\")\n",
    "folder.remove('.DS_Store')\n",
    "d={}\n",
    "\n",
    "# check the wrong term\n",
    "check = [\"gutter-shape;\"]\n",
    "\n",
    "wrong = {}\n",
    "\n",
    "for i in folder:\n",
    "    test = pd.read_csv(\"Experiment Files/\" + i + \"/Carex muskingumensis/Carex muskingumensis.csv\").astype(str)\n",
    "    test = test.drop(columns=['Summary'])\n",
    "    wrong[i] = 0\n",
    "    store = []\n",
    "    \n",
    "    # store non-na value into store\n",
    "    for q in test:\n",
    "        for p in test[q]:\n",
    "            store.append(p.split())\n",
    "    \n",
    "    flatList = [item for elem in store for item in elem]\n",
    "\n",
    "    for a in check:\n",
    "        if a in flatList:\n",
    "            wrong[i] = wrong[i] + 1\n",
    "\n",
    "print(wrong)"
   ]
  },
  {
   "cell_type": "code",
   "execution_count": null,
   "id": "934c7a52",
   "metadata": {},
   "outputs": [],
   "source": [
    "for i in wrong:\n",
    "    if wrong[i] != 0:\n",
    "        print(i)"
   ]
  }
 ],
 "metadata": {
  "kernelspec": {
   "display_name": "Python 3",
   "language": "python",
   "name": "python3"
  },
  "language_info": {
   "codemirror_mode": {
    "name": "ipython",
    "version": 3
   },
   "file_extension": ".py",
   "mimetype": "text/x-python",
   "name": "python",
   "nbconvert_exporter": "python",
   "pygments_lexer": "ipython3",
   "version": "3.8.8"
  }
 },
 "nbformat": 4,
 "nbformat_minor": 5
}
